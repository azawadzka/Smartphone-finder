{
 "cells": [
  {
   "cell_type": "code",
   "execution_count": 24,
   "metadata": {},
   "outputs": [],
   "source": [
    "import pickle\n",
    "import pandas as pd\n",
    "import numpy as np\n",
    "import re\n",
    "pd.set_option('display.max_rows', None)\n",
    "pd.options.display.max_colwidth = 200\n",
    "\n",
    "data = None\n",
    "regex_decimal = r'(\\d+)'\n",
    "regex_float = r'([-+]?\\d*\\.*\\d+)'\n",
    "regex_float_with_dec_part = r'(\\d+\\.\\d+)'\n",
    "\n",
    "# Raw data, source: mediamarkt.es, web scraping \n",
    "# Working on the backup version from 19.03.2020 to provide that the code interprets without errors. \n",
    "# The set is updated frequently and adjustments may be needed when used with new phones.\n",
    "with open('data_raw_backup.pickle', 'rb') as handle:\n",
    "    smartphones = pickle.load(handle) # list of dictionaries, each dictionary describes one smartphone\n",
    "    data = pd.DataFrame.from_dict(smartphones)"
   ]
  },
  {
   "cell_type": "code",
   "execution_count": 25,
   "metadata": {},
   "outputs": [],
   "source": [
    "# Matching columns to slot names in Clips 'smartphone' template\n",
    "columns = {'Marca' : \"brand\",\n",
    "          'Tipo:' : \"model\",\n",
    "          'Sistema operativo:' : \"operating_system\",\n",
    "          'Velocidad Procesador:' : \"cpu\",\n",
    "          'Capacidad memoria:' : \"memory\",\n",
    "          'Tamaño memoria RAM:' : \"ram\",\n",
    "          'Resolución cámara trasera:' : \"camera\",\n",
    "          'Peso:' : \"weight\",\n",
    "          'Tamaño pantalla (cm):' : \"screen_diagonal\",\n",
    "          'Capacidad batería:' : \"battery\",\n",
    "          'Precio' : \"price\",\n",
    "          'Admite SD:' : \"sd\",\n",
    "          'GPS:' : \"gps\",\n",
    "          'Bluetooth:' : \"bluetooth\",\n",
    "          'Wi-Fi:' : \"wifi\",\n",
    "          'Link' : \"link\"\n",
    "          }"
   ]
  },
  {
   "cell_type": "code",
   "execution_count": 26,
   "metadata": {},
   "outputs": [
    {
     "data": {
      "text/html": [
       "<div>\n",
       "<style scoped>\n",
       "    .dataframe tbody tr th:only-of-type {\n",
       "        vertical-align: middle;\n",
       "    }\n",
       "\n",
       "    .dataframe tbody tr th {\n",
       "        vertical-align: top;\n",
       "    }\n",
       "\n",
       "    .dataframe thead th {\n",
       "        text-align: right;\n",
       "    }\n",
       "</style>\n",
       "<table border=\"1\" class=\"dataframe\">\n",
       "  <thead>\n",
       "    <tr style=\"text-align: right;\">\n",
       "      <th></th>\n",
       "      <th>brand</th>\n",
       "      <th>model</th>\n",
       "      <th>operating_system</th>\n",
       "      <th>cpu</th>\n",
       "      <th>memory</th>\n",
       "      <th>ram</th>\n",
       "      <th>camera</th>\n",
       "      <th>weight</th>\n",
       "      <th>screen_diagonal</th>\n",
       "      <th>battery</th>\n",
       "      <th>price</th>\n",
       "      <th>sd</th>\n",
       "      <th>gps</th>\n",
       "      <th>bluetooth</th>\n",
       "      <th>wifi</th>\n",
       "      <th>link</th>\n",
       "    </tr>\n",
       "  </thead>\n",
       "  <tbody>\n",
       "    <tr>\n",
       "      <th>0</th>\n",
       "      <td>huawei</td>\n",
       "      <td>P30 Lite</td>\n",
       "      <td>Android</td>\n",
       "      <td>2.2 GHz</td>\n",
       "      <td>128 GB</td>\n",
       "      <td>4 GB</td>\n",
       "      <td>48 megapixel</td>\n",
       "      <td>159 g</td>\n",
       "      <td>15.62 cm</td>\n",
       "      <td>3340 mAh</td>\n",
       "      <td>229,-</td>\n",
       "      <td>Sí</td>\n",
       "      <td>Sí</td>\n",
       "      <td>Sí</td>\n",
       "      <td>Sí</td>\n",
       "      <td>/es/product/_m%C3%B3vil-huawei-p30-lite-azul-128-gb-4-gb-ram-6-15-full-hd-kirin-710-3340-mah-android-1452688.html</td>\n",
       "    </tr>\n",
       "    <tr>\n",
       "      <th>1</th>\n",
       "      <td>xiaomi</td>\n",
       "      <td>Redmi Note 8 Pro</td>\n",
       "      <td>Android</td>\n",
       "      <td>2,05 GHz</td>\n",
       "      <td>128 GB</td>\n",
       "      <td>6 GB</td>\n",
       "      <td>64 pixels</td>\n",
       "      <td>200 g</td>\n",
       "      <td>NaN</td>\n",
       "      <td>4500 mAh</td>\n",
       "      <td>228,-</td>\n",
       "      <td>Sí</td>\n",
       "      <td>Sí</td>\n",
       "      <td>Sí</td>\n",
       "      <td>Sí</td>\n",
       "      <td>/es/product/_m%C3%B3vil-xiaomi-redmi-note-8-pro-azul-128-gb-6-gb-ram-6-53-full-hd-helio-g90t-4500-mah-android-1469588.html</td>\n",
       "    </tr>\n",
       "    <tr>\n",
       "      <th>2</th>\n",
       "      <td>xiaomi</td>\n",
       "      <td>Redmi Note 8T</td>\n",
       "      <td>Android</td>\n",
       "      <td>2.0 GHz</td>\n",
       "      <td>64 GB</td>\n",
       "      <td>4 GB</td>\n",
       "      <td>NaN</td>\n",
       "      <td>190 g</td>\n",
       "      <td>16 cm</td>\n",
       "      <td>4000 mAh</td>\n",
       "      <td>199,-</td>\n",
       "      <td>Sí</td>\n",
       "      <td>Sí</td>\n",
       "      <td>Sí</td>\n",
       "      <td>Sí</td>\n",
       "      <td>/es/product/_m%C3%B3vil-xiaomi-redmi-note-8t-azul-64-gb-4-gb-ram-6-3-full-hd-snapdragon-665-4000-mah-android-1468593.html</td>\n",
       "    </tr>\n",
       "    <tr>\n",
       "      <th>3</th>\n",
       "      <td>xiaomi</td>\n",
       "      <td>Mi 9</td>\n",
       "      <td>Android</td>\n",
       "      <td>2.84 GHz</td>\n",
       "      <td>128 GB</td>\n",
       "      <td>6 GB</td>\n",
       "      <td>48 megapixel</td>\n",
       "      <td>173 g</td>\n",
       "      <td>16.25 cm</td>\n",
       "      <td>3300 mAh</td>\n",
       "      <td>369,-</td>\n",
       "      <td>no</td>\n",
       "      <td>Sí</td>\n",
       "      <td>Sí</td>\n",
       "      <td>Sí</td>\n",
       "      <td>/es/product/_m%C3%B3vil-xiaomi-mi-9-azul-128-gb-6-gb-ram-6-4-full-hd-snapdragon-855-3300-mah-android-1447026.html</td>\n",
       "    </tr>\n",
       "    <tr>\n",
       "      <th>4</th>\n",
       "      <td>xiaomi</td>\n",
       "      <td>Redmi Note 8T</td>\n",
       "      <td>Android</td>\n",
       "      <td>2.0 GHz</td>\n",
       "      <td>64 GB</td>\n",
       "      <td>4 GB</td>\n",
       "      <td>48 megapixel</td>\n",
       "      <td>190 g</td>\n",
       "      <td>16 cm</td>\n",
       "      <td>4000 mAh</td>\n",
       "      <td>199,-</td>\n",
       "      <td>Sí</td>\n",
       "      <td>Sí</td>\n",
       "      <td>Sí</td>\n",
       "      <td>Sí</td>\n",
       "      <td>/es/product/_m%C3%B3vil-xiaomi-redmi-note-8t-gris-64-gb-4-gb-ram-6-3-full-hd-snapdragon-665-4000-mah-android-1468591.html</td>\n",
       "    </tr>\n",
       "  </tbody>\n",
       "</table>\n",
       "</div>"
      ],
      "text/plain": [
       "    brand             model operating_system       cpu  memory   ram  \\\n",
       "0  huawei          P30 Lite          Android   2.2 GHz  128 GB  4 GB   \n",
       "1  xiaomi  Redmi Note 8 Pro          Android  2,05 GHz  128 GB  6 GB   \n",
       "2  xiaomi     Redmi Note 8T          Android   2.0 GHz   64 GB  4 GB   \n",
       "3  xiaomi              Mi 9          Android  2.84 GHz  128 GB  6 GB   \n",
       "4  xiaomi     Redmi Note 8T          Android   2.0 GHz   64 GB  4 GB   \n",
       "\n",
       "         camera weight screen_diagonal   battery  price  sd gps bluetooth  \\\n",
       "0  48 megapixel  159 g        15.62 cm  3340 mAh  229,-  Sí  Sí        Sí   \n",
       "1     64 pixels  200 g             NaN  4500 mAh  228,-  Sí  Sí        Sí   \n",
       "2           NaN  190 g           16 cm  4000 mAh  199,-  Sí  Sí        Sí   \n",
       "3  48 megapixel  173 g        16.25 cm  3300 mAh  369,-  no  Sí        Sí   \n",
       "4  48 megapixel  190 g           16 cm  4000 mAh  199,-  Sí  Sí        Sí   \n",
       "\n",
       "  wifi  \\\n",
       "0   Sí   \n",
       "1   Sí   \n",
       "2   Sí   \n",
       "3   Sí   \n",
       "4   Sí   \n",
       "\n",
       "                                                                                                                         link  \n",
       "0           /es/product/_m%C3%B3vil-huawei-p30-lite-azul-128-gb-4-gb-ram-6-15-full-hd-kirin-710-3340-mah-android-1452688.html  \n",
       "1  /es/product/_m%C3%B3vil-xiaomi-redmi-note-8-pro-azul-128-gb-6-gb-ram-6-53-full-hd-helio-g90t-4500-mah-android-1469588.html  \n",
       "2   /es/product/_m%C3%B3vil-xiaomi-redmi-note-8t-azul-64-gb-4-gb-ram-6-3-full-hd-snapdragon-665-4000-mah-android-1468593.html  \n",
       "3           /es/product/_m%C3%B3vil-xiaomi-mi-9-azul-128-gb-6-gb-ram-6-4-full-hd-snapdragon-855-3300-mah-android-1447026.html  \n",
       "4   /es/product/_m%C3%B3vil-xiaomi-redmi-note-8t-gris-64-gb-4-gb-ram-6-3-full-hd-snapdragon-665-4000-mah-android-1468591.html  "
      ]
     },
     "execution_count": 26,
     "metadata": {},
     "output_type": "execute_result"
    }
   ],
   "source": [
    "# Filtering the columns to eliminate unused ones and renaming\n",
    "data = data[list(columns)]\n",
    "data = data.rename(columns=columns)\n",
    "data.head()"
   ]
  },
  {
   "cell_type": "code",
   "execution_count": 27,
   "metadata": {
    "scrolled": false
   },
   "outputs": [
    {
     "data": {
      "text/plain": [
       "apple        75\n",
       "samsung      54\n",
       "huawei       31\n",
       "lg           21\n",
       "sony         19\n",
       "honor        19\n",
       "xiaomi       17\n",
       "motorola     14\n",
       "hammer       10\n",
       "alcatel       9\n",
       "oppo          9\n",
       "nokia         6\n",
       "crosscall     3\n",
       "realme        2\n",
       "tcl           2\n",
       "meizu         2\n",
       "palm          1\n",
       "gigaset       1\n",
       "asus          1\n",
       "weimei        1\n",
       "moto          1\n",
       "vsmart        1\n",
       "lenovo        1\n",
       "oneplus       1\n",
       "Name: brand, dtype: int64"
      ]
     },
     "execution_count": 27,
     "metadata": {},
     "output_type": "execute_result"
    }
   ],
   "source": [
    "# Brand\n",
    "# Hand-check if values overlap due to unconsistent spelling\n",
    "data.brand.value_counts()"
   ]
  },
  {
   "cell_type": "code",
   "execution_count": 28,
   "metadata": {},
   "outputs": [
    {
     "data": {
      "text/plain": [
       "Android    200\n",
       "iOS         74\n",
       "other        1\n",
       "Name: operating_system, dtype: int64"
      ]
     },
     "execution_count": 28,
     "metadata": {},
     "output_type": "execute_result"
    }
   ],
   "source": [
    "# Operating system\n",
    "# replace \"Android 6.0\" by \"Android\"\n",
    "data.loc[data.operating_system == \"Android 6.0\", \"operating_system\"] = \"Android\"\n",
    "# replace \"Propietario\" by \"other\"\n",
    "data.loc[data.operating_system == \"Propietario\", \"operating_system\"] = \"other\"\n",
    "data.operating_system.value_counts()"
   ]
  },
  {
   "cell_type": "code",
   "execution_count": 29,
   "metadata": {
    "scrolled": false
   },
   "outputs": [
    {
     "data": {
      "text/plain": [
       "(301, 16)"
      ]
     },
     "execution_count": 29,
     "metadata": {},
     "output_type": "execute_result"
    }
   ],
   "source": [
    "# CPU\n",
    "# Identified units: GHz|MHz|nm. \n",
    "# One value doesn't have unit -> hand edit\n",
    "data.loc[data.cpu == \"1.3\", \"cpu\"] = \"1.3 GHz\"\n",
    "# assert that all values have identified units\n",
    "assert data.cpu.str.contains(pat='GHz|MHz|nm', na=True).all()\n",
    "data.cpu = data.cpu.str.replace(',', '.')\n",
    "# mark MHz and nm\n",
    "data['cpu_MHz'] = data.cpu.str.contains(pat='MHz', na=False)\n",
    "data['cpu_nm'] = data.cpu.str.contains(pat='nm', na=False)\n",
    "# mark multiple cores cpu\n",
    "data['cpu_mult'] = data.cpu.str.contains(pat='x|-', na=False)\n",
    "# extract largest value from multiple cores cpu\n",
    "data.cpu = data.apply(lambda x: max(re.findall(regex_float_with_dec_part,x.cpu)) if x.cpu_mult is True else x.cpu, axis=1)\n",
    "# change values to float\n",
    "data.cpu = data.cpu.str.extract(regex_float)\n",
    "data.cpu = data.apply(lambda x: pd.to_numeric(x.cpu), axis=1)\n",
    "# change MHz to GHz\n",
    "data.cpu = data.apply(lambda x: x.cpu/1000 if x.cpu_MHz is True else x.cpu, axis=1)\n",
    "# change nm to negative number, eg. -7\n",
    "data.cpu = data.apply(lambda x: -x.cpu if x.cpu_nm is True else x.cpu, axis=1)\n",
    "data.pop('cpu_MHz')\n",
    "data.pop('cpu_nm')\n",
    "data.pop('cpu_mult')\n",
    "data.shape"
   ]
  },
  {
   "cell_type": "code",
   "execution_count": 30,
   "metadata": {},
   "outputs": [
    {
     "data": {
      "text/plain": [
       "(301, 16)"
      ]
     },
     "execution_count": 30,
     "metadata": {},
     "output_type": "execute_result"
    }
   ],
   "source": [
    "# Memory\n",
    "# Most values GB, some MB exist\n",
    "# assert that all values are either MB or GB\n",
    "assert data.memory.str.contains(pat='MB|GB', na=True).all()\n",
    "\n",
    "data['memory_mb'] = data.memory.str.contains(pat='MB', na=False)\n",
    "data.memory = data.memory.str.extract(regex_decimal)\n",
    "data.memory = pd.to_numeric(data.memory)\n",
    "# for each row containing MB calculate to GB\n",
    "data.memory = data.apply(lambda x: x.memory / 1024 if x.memory_mb is True else x.memory, axis=1)\n",
    "data.pop('memory_mb')\n",
    "data.shape"
   ]
  },
  {
   "cell_type": "code",
   "execution_count": 31,
   "metadata": {},
   "outputs": [
    {
     "data": {
      "text/plain": [
       "(301, 16)"
      ]
     },
     "execution_count": 31,
     "metadata": {},
     "output_type": "execute_result"
    }
   ],
   "source": [
    "# RAM\n",
    "# similar as memory treatment\n",
    "assert data.ram.str.contains(pat='MB|GB', na=True).all()\n",
    "\n",
    "data['ram_mb'] = data.ram.str.contains(pat='MB', na=False)\n",
    "data.ram = data.ram.str.extract(regex_decimal)\n",
    "data.ram = pd.to_numeric(data.ram)\n",
    "data.ram = data.apply(lambda x: x.ram / 1024 if x.ram_mb is True else x.ram, axis=1)\n",
    "data.pop('ram_mb')\n",
    "data.shape"
   ]
  },
  {
   "cell_type": "code",
   "execution_count": 32,
   "metadata": {},
   "outputs": [
    {
     "data": {
      "text/plain": [
       "(301, 16)"
      ]
     },
     "execution_count": 32,
     "metadata": {},
     "output_type": "execute_result"
    }
   ],
   "source": [
    "# Camera\n",
    "# Identified units: megapixel, pixels (refers to megapixels)\n",
    "# Assert that all entries have identified units\n",
    "assert data.camera.str.contains(pat='megapixel|pixels', na=True).all()\n",
    "data.camera = data.camera.str.extract(regex_decimal)\n",
    "data.camera = data.camera.astype('float')\n",
    "data.shape"
   ]
  },
  {
   "cell_type": "code",
   "execution_count": 33,
   "metadata": {},
   "outputs": [
    {
     "data": {
      "text/plain": [
       "0       48.0\n",
       "1       64.0\n",
       "2        NaN\n",
       "3       48.0\n",
       "4       48.0\n",
       "5       16.0\n",
       "6        NaN\n",
       "7        NaN\n",
       "8       13.0\n",
       "9       16.0\n",
       "10      12.0\n",
       "11      64.0\n",
       "12      40.0\n",
       "13      12.0\n",
       "14      40.0\n",
       "15      12.0\n",
       "16      12.0\n",
       "17      12.0\n",
       "18       NaN\n",
       "19      48.0\n",
       "20      12.0\n",
       "21      12.0\n",
       "22       NaN\n",
       "23       NaN\n",
       "24      12.0\n",
       "25       NaN\n",
       "26      48.0\n",
       "27      13.0\n",
       "28      13.0\n",
       "29      13.0\n",
       "30      48.0\n",
       "31      12.0\n",
       "32      13.0\n",
       "33      12.0\n",
       "34      12.0\n",
       "35      13.0\n",
       "36      64.0\n",
       "37       NaN\n",
       "38       NaN\n",
       "39       NaN\n",
       "40      13.0\n",
       "41      12.0\n",
       "42       5.0\n",
       "43      13.0\n",
       "44      64.0\n",
       "45      48.0\n",
       "46       NaN\n",
       "47      12.0\n",
       "48      25.0\n",
       "49      16.0\n",
       "50     108.0\n",
       "51     108.0\n",
       "52     108.0\n",
       "53      13.0\n",
       "54      12.0\n",
       "55       NaN\n",
       "56      12.0\n",
       "57      13.0\n",
       "58       NaN\n",
       "59      12.0\n",
       "60      12.0\n",
       "61      12.0\n",
       "62      64.0\n",
       "63      12.0\n",
       "64      48.0\n",
       "65      12.0\n",
       "66       NaN\n",
       "67       NaN\n",
       "68      12.0\n",
       "69      12.0\n",
       "70      12.0\n",
       "71      12.0\n",
       "72      12.0\n",
       "73       NaN\n",
       "74      12.0\n",
       "75      48.0\n",
       "76      13.0\n",
       "77      12.0\n",
       "78      64.0\n",
       "79      12.0\n",
       "80       NaN\n",
       "81      12.0\n",
       "82      12.0\n",
       "83       NaN\n",
       "84      64.0\n",
       "85      64.0\n",
       "86      13.0\n",
       "87       NaN\n",
       "88       NaN\n",
       "89      13.0\n",
       "90      12.0\n",
       "91      48.0\n",
       "92      12.0\n",
       "93      13.0\n",
       "94       NaN\n",
       "95      12.0\n",
       "96      12.0\n",
       "97      12.0\n",
       "98      64.0\n",
       "99      48.0\n",
       "100     12.0\n",
       "101     12.0\n",
       "102      NaN\n",
       "103     16.0\n",
       "104     13.0\n",
       "105     12.0\n",
       "106     12.0\n",
       "107     13.0\n",
       "108      NaN\n",
       "109     12.0\n",
       "110     48.0\n",
       "111     12.0\n",
       "112     12.0\n",
       "113     16.0\n",
       "114     12.0\n",
       "115     12.0\n",
       "116      NaN\n",
       "117     16.0\n",
       "118     12.0\n",
       "119     12.0\n",
       "120     12.0\n",
       "121     13.0\n",
       "122     12.0\n",
       "123     12.0\n",
       "124     16.0\n",
       "125      NaN\n",
       "126     13.0\n",
       "127      NaN\n",
       "128     64.0\n",
       "129     48.0\n",
       "130     12.0\n",
       "131      NaN\n",
       "132     12.0\n",
       "133     12.0\n",
       "134      NaN\n",
       "135      NaN\n",
       "136      NaN\n",
       "137     12.0\n",
       "138     12.0\n",
       "139      NaN\n",
       "140     64.0\n",
       "141     12.0\n",
       "142     64.0\n",
       "143     12.0\n",
       "144     12.0\n",
       "145     40.0\n",
       "146     48.0\n",
       "147     12.0\n",
       "148      NaN\n",
       "149      NaN\n",
       "150     40.0\n",
       "151     40.0\n",
       "152     12.0\n",
       "153      NaN\n",
       "154     64.0\n",
       "155     64.0\n",
       "156     20.0\n",
       "157      NaN\n",
       "158     48.0\n",
       "159     48.0\n",
       "160     20.0\n",
       "161     40.0\n",
       "162      NaN\n",
       "163     40.0\n",
       "164      NaN\n",
       "165      NaN\n",
       "166     64.0\n",
       "167     64.0\n",
       "168     64.0\n",
       "169      NaN\n",
       "170     48.0\n",
       "171     12.0\n",
       "172     12.0\n",
       "173     40.0\n",
       "174     12.0\n",
       "175      NaN\n",
       "176     12.0\n",
       "177     12.0\n",
       "178      NaN\n",
       "179     40.0\n",
       "180      NaN\n",
       "181     12.0\n",
       "182     12.0\n",
       "183      NaN\n",
       "184      NaN\n",
       "185     12.0\n",
       "186      2.0\n",
       "187     48.0\n",
       "188     48.0\n",
       "189      NaN\n",
       "190     12.0\n",
       "191     12.0\n",
       "192     16.0\n",
       "193     13.0\n",
       "194      NaN\n",
       "195      NaN\n",
       "196     48.0\n",
       "197      NaN\n",
       "198      NaN\n",
       "199      NaN\n",
       "200      NaN\n",
       "201      8.0\n",
       "202      8.0\n",
       "203      NaN\n",
       "204     12.0\n",
       "205     64.0\n",
       "206      8.0\n",
       "207     12.0\n",
       "208     12.0\n",
       "209     16.0\n",
       "210     12.0\n",
       "211      NaN\n",
       "212      NaN\n",
       "213      NaN\n",
       "214     12.0\n",
       "215     13.0\n",
       "216      NaN\n",
       "217     24.0\n",
       "218      NaN\n",
       "219      NaN\n",
       "220      NaN\n",
       "221     13.0\n",
       "222     12.0\n",
       "223     12.0\n",
       "224     23.0\n",
       "225      NaN\n",
       "226      NaN\n",
       "227      NaN\n",
       "228     13.0\n",
       "229     13.0\n",
       "230     40.0\n",
       "231     16.0\n",
       "232      NaN\n",
       "233      NaN\n",
       "234     16.0\n",
       "235      8.0\n",
       "236     12.0\n",
       "237     12.0\n",
       "238     12.0\n",
       "239     19.0\n",
       "240      8.0\n",
       "241     23.0\n",
       "242     12.0\n",
       "243      NaN\n",
       "244      NaN\n",
       "245      NaN\n",
       "246      8.0\n",
       "247      5.0\n",
       "248      NaN\n",
       "249      5.0\n",
       "250      NaN\n",
       "251      NaN\n",
       "252      NaN\n",
       "253      8.0\n",
       "254      NaN\n",
       "255     19.0\n",
       "256     12.0\n",
       "257     13.0\n",
       "258      NaN\n",
       "259     13.0\n",
       "260      NaN\n",
       "261      NaN\n",
       "262      NaN\n",
       "263      NaN\n",
       "264      NaN\n",
       "265     23.0\n",
       "266     13.0\n",
       "267      NaN\n",
       "268      NaN\n",
       "269     13.0\n",
       "270      NaN\n",
       "271      NaN\n",
       "272      NaN\n",
       "273      NaN\n",
       "274      NaN\n",
       "275      8.0\n",
       "276     16.0\n",
       "277     16.0\n",
       "278      NaN\n",
       "279      NaN\n",
       "280     13.0\n",
       "281      NaN\n",
       "282      NaN\n",
       "283     13.0\n",
       "284      NaN\n",
       "285      NaN\n",
       "286     12.0\n",
       "287     12.0\n",
       "288     12.0\n",
       "289      8.0\n",
       "290      NaN\n",
       "291      NaN\n",
       "292      NaN\n",
       "293      NaN\n",
       "294     12.0\n",
       "295      NaN\n",
       "296     13.0\n",
       "297      NaN\n",
       "298     12.0\n",
       "299      NaN\n",
       "300      8.0\n",
       "Name: camera, dtype: float64"
      ]
     },
     "execution_count": 33,
     "metadata": {},
     "output_type": "execute_result"
    }
   ],
   "source": [
    "data.camera"
   ]
  },
  {
   "cell_type": "code",
   "execution_count": 34,
   "metadata": {},
   "outputs": [
    {
     "data": {
      "text/plain": [
       "(301, 16)"
      ]
     },
     "execution_count": 34,
     "metadata": {},
     "output_type": "execute_result"
    }
   ],
   "source": [
    "# Weight\n",
    "# Identified units: g, gr, kg (=1000g)\n",
    "# Assert that all entries have identified units\n",
    "assert data.weight.str.contains(pat='g|gr|kg', na=True).all()\n",
    "data['weight_kg'] = data.weight.str.contains(pat='kg', na=False)\n",
    "data.weight = data.weight.str.extract(regex_float)\n",
    "data.weight = pd.to_numeric(data.weight)\n",
    "# for each row containing kg calculate to g\n",
    "data.weight = data.apply(lambda x: x.weight * 1000 if x.weight_kg is True else x.weight, axis=1)\n",
    "data.pop('weight_kg')\n",
    "# assert that all values (drop NaN) are within reasonable range\n",
    "assert data.weight.dropna().between(100,300).all()\n",
    "data.shape"
   ]
  },
  {
   "cell_type": "code",
   "execution_count": 35,
   "metadata": {},
   "outputs": [
    {
     "data": {
      "text/plain": [
       "(301, 16)"
      ]
     },
     "execution_count": 35,
     "metadata": {},
     "output_type": "execute_result"
    }
   ],
   "source": [
    "# Screen diagonal\n",
    "# Identified units: cm\n",
    "# Assert that all entries have identified units\n",
    "assert data.screen_diagonal.str.contains(pat='cm', na=True).all()\n",
    "data.screen_diagonal = data.screen_diagonal.str.extract(regex_float)\n",
    "data.screen_diagonal = pd.to_numeric(data.screen_diagonal)\n",
    "# assert that all values (drop NaN) are within reasonable range\n",
    "assert data.screen_diagonal.dropna().between(5,21).all()\n",
    "data.shape"
   ]
  },
  {
   "cell_type": "code",
   "execution_count": 36,
   "metadata": {},
   "outputs": [
    {
     "data": {
      "text/plain": [
       "(301, 16)"
      ]
     },
     "execution_count": 36,
     "metadata": {},
     "output_type": "execute_result"
    }
   ],
   "source": [
    "# Battery\n",
    "# Identified units: mAh\n",
    "assert data.battery.str.contains(pat='mAh', na=True).all()\n",
    "data.battery = data.battery.str.extract(regex_decimal)\n",
    "data.battery = pd.to_numeric(data.battery)\n",
    "# assert that all values (drop NaN) are within reasonable range\n",
    "assert data.battery.dropna().between(0,8000).all()\n",
    "data.shape"
   ]
  },
  {
   "cell_type": "code",
   "execution_count": 37,
   "metadata": {},
   "outputs": [
    {
     "data": {
      "text/plain": [
       "(301, 16)"
      ]
     },
     "execution_count": 37,
     "metadata": {},
     "output_type": "execute_result"
    }
   ],
   "source": [
    "# Price\n",
    "data.price = data.price.str.replace(',', '.')\n",
    "data.price = data.price.str.extract(regex_decimal)\n",
    "data.price = pd.to_numeric(data.price)\n",
    "# assert that all values (drop NaN) are within reasonable range AND that all values are given\n",
    "assert data.price.dropna().between(0,4000).all()\n",
    "assert not(data.price.isna().all())\n",
    "data.shape"
   ]
  },
  {
   "cell_type": "code",
   "execution_count": 38,
   "metadata": {},
   "outputs": [
    {
     "data": {
      "text/plain": [
       "(301, 16)"
      ]
     },
     "execution_count": 38,
     "metadata": {},
     "output_type": "execute_result"
    }
   ],
   "source": [
    "# Binary columns: sd gps bluetooth wifi\n",
    "binary_columns = [data.sd, data.gps, data.bluetooth, data.wifi]\n",
    "pd.concat(binary_columns).value_counts()\n",
    "# Identified values: Sí, no\n",
    "def fun(x): \n",
    " return x.str.replace('Sí', 'y').replace('no', 'n')\n",
    "data.sd = fun(data.sd)\n",
    "data.gps = fun(data.gps)\n",
    "data.bluetooth = fun(data.bluetooth)\n",
    "data.wifi = fun(data.wifi)\n",
    "data.shape"
   ]
  },
  {
   "cell_type": "code",
   "execution_count": 39,
   "metadata": {},
   "outputs": [
    {
     "data": {
      "text/html": [
       "<div>\n",
       "<style scoped>\n",
       "    .dataframe tbody tr th:only-of-type {\n",
       "        vertical-align: middle;\n",
       "    }\n",
       "\n",
       "    .dataframe tbody tr th {\n",
       "        vertical-align: top;\n",
       "    }\n",
       "\n",
       "    .dataframe thead th {\n",
       "        text-align: right;\n",
       "    }\n",
       "</style>\n",
       "<table border=\"1\" class=\"dataframe\">\n",
       "  <thead>\n",
       "    <tr style=\"text-align: right;\">\n",
       "      <th></th>\n",
       "      <th>brand</th>\n",
       "      <th>model</th>\n",
       "      <th>operating_system</th>\n",
       "      <th>cpu</th>\n",
       "      <th>memory</th>\n",
       "      <th>ram</th>\n",
       "      <th>camera</th>\n",
       "      <th>weight</th>\n",
       "      <th>screen_diagonal</th>\n",
       "      <th>battery</th>\n",
       "      <th>price</th>\n",
       "      <th>sd</th>\n",
       "      <th>gps</th>\n",
       "      <th>bluetooth</th>\n",
       "      <th>wifi</th>\n",
       "      <th>link</th>\n",
       "    </tr>\n",
       "  </thead>\n",
       "  <tbody>\n",
       "    <tr>\n",
       "      <th>0</th>\n",
       "      <td>huawei</td>\n",
       "      <td>P30 Lite</td>\n",
       "      <td>Android</td>\n",
       "      <td>2.20</td>\n",
       "      <td>128.0</td>\n",
       "      <td>4.0</td>\n",
       "      <td>48.0</td>\n",
       "      <td>159.0</td>\n",
       "      <td>15.62</td>\n",
       "      <td>3340.0</td>\n",
       "      <td>229</td>\n",
       "      <td>y</td>\n",
       "      <td>y</td>\n",
       "      <td>y</td>\n",
       "      <td>y</td>\n",
       "      <td>/es/product/_m%C3%B3vil-huawei-p30-lite-azul-128-gb-4-gb-ram-6-15-full-hd-kirin-710-3340-mah-android-1452688.html</td>\n",
       "    </tr>\n",
       "    <tr>\n",
       "      <th>1</th>\n",
       "      <td>xiaomi</td>\n",
       "      <td>Redmi Note 8 Pro</td>\n",
       "      <td>Android</td>\n",
       "      <td>2.05</td>\n",
       "      <td>128.0</td>\n",
       "      <td>6.0</td>\n",
       "      <td>64.0</td>\n",
       "      <td>200.0</td>\n",
       "      <td>NaN</td>\n",
       "      <td>4500.0</td>\n",
       "      <td>228</td>\n",
       "      <td>y</td>\n",
       "      <td>y</td>\n",
       "      <td>y</td>\n",
       "      <td>y</td>\n",
       "      <td>/es/product/_m%C3%B3vil-xiaomi-redmi-note-8-pro-azul-128-gb-6-gb-ram-6-53-full-hd-helio-g90t-4500-mah-android-1469588.html</td>\n",
       "    </tr>\n",
       "    <tr>\n",
       "      <th>2</th>\n",
       "      <td>xiaomi</td>\n",
       "      <td>Redmi Note 8T</td>\n",
       "      <td>Android</td>\n",
       "      <td>2.00</td>\n",
       "      <td>64.0</td>\n",
       "      <td>4.0</td>\n",
       "      <td>NaN</td>\n",
       "      <td>190.0</td>\n",
       "      <td>16.00</td>\n",
       "      <td>4000.0</td>\n",
       "      <td>199</td>\n",
       "      <td>y</td>\n",
       "      <td>y</td>\n",
       "      <td>y</td>\n",
       "      <td>y</td>\n",
       "      <td>/es/product/_m%C3%B3vil-xiaomi-redmi-note-8t-azul-64-gb-4-gb-ram-6-3-full-hd-snapdragon-665-4000-mah-android-1468593.html</td>\n",
       "    </tr>\n",
       "    <tr>\n",
       "      <th>3</th>\n",
       "      <td>xiaomi</td>\n",
       "      <td>Mi 9</td>\n",
       "      <td>Android</td>\n",
       "      <td>2.84</td>\n",
       "      <td>128.0</td>\n",
       "      <td>6.0</td>\n",
       "      <td>48.0</td>\n",
       "      <td>173.0</td>\n",
       "      <td>16.25</td>\n",
       "      <td>3300.0</td>\n",
       "      <td>369</td>\n",
       "      <td>n</td>\n",
       "      <td>y</td>\n",
       "      <td>y</td>\n",
       "      <td>y</td>\n",
       "      <td>/es/product/_m%C3%B3vil-xiaomi-mi-9-azul-128-gb-6-gb-ram-6-4-full-hd-snapdragon-855-3300-mah-android-1447026.html</td>\n",
       "    </tr>\n",
       "    <tr>\n",
       "      <th>4</th>\n",
       "      <td>xiaomi</td>\n",
       "      <td>Redmi Note 8T</td>\n",
       "      <td>Android</td>\n",
       "      <td>2.00</td>\n",
       "      <td>64.0</td>\n",
       "      <td>4.0</td>\n",
       "      <td>48.0</td>\n",
       "      <td>190.0</td>\n",
       "      <td>16.00</td>\n",
       "      <td>4000.0</td>\n",
       "      <td>199</td>\n",
       "      <td>y</td>\n",
       "      <td>y</td>\n",
       "      <td>y</td>\n",
       "      <td>y</td>\n",
       "      <td>/es/product/_m%C3%B3vil-xiaomi-redmi-note-8t-gris-64-gb-4-gb-ram-6-3-full-hd-snapdragon-665-4000-mah-android-1468591.html</td>\n",
       "    </tr>\n",
       "  </tbody>\n",
       "</table>\n",
       "</div>"
      ],
      "text/plain": [
       "    brand             model operating_system   cpu  memory  ram  camera  \\\n",
       "0  huawei          P30 Lite          Android  2.20   128.0  4.0    48.0   \n",
       "1  xiaomi  Redmi Note 8 Pro          Android  2.05   128.0  6.0    64.0   \n",
       "2  xiaomi     Redmi Note 8T          Android  2.00    64.0  4.0     NaN   \n",
       "3  xiaomi              Mi 9          Android  2.84   128.0  6.0    48.0   \n",
       "4  xiaomi     Redmi Note 8T          Android  2.00    64.0  4.0    48.0   \n",
       "\n",
       "   weight  screen_diagonal  battery  price sd gps bluetooth wifi  \\\n",
       "0   159.0            15.62   3340.0    229  y   y         y    y   \n",
       "1   200.0              NaN   4500.0    228  y   y         y    y   \n",
       "2   190.0            16.00   4000.0    199  y   y         y    y   \n",
       "3   173.0            16.25   3300.0    369  n   y         y    y   \n",
       "4   190.0            16.00   4000.0    199  y   y         y    y   \n",
       "\n",
       "                                                                                                                         link  \n",
       "0           /es/product/_m%C3%B3vil-huawei-p30-lite-azul-128-gb-4-gb-ram-6-15-full-hd-kirin-710-3340-mah-android-1452688.html  \n",
       "1  /es/product/_m%C3%B3vil-xiaomi-redmi-note-8-pro-azul-128-gb-6-gb-ram-6-53-full-hd-helio-g90t-4500-mah-android-1469588.html  \n",
       "2   /es/product/_m%C3%B3vil-xiaomi-redmi-note-8t-azul-64-gb-4-gb-ram-6-3-full-hd-snapdragon-665-4000-mah-android-1468593.html  \n",
       "3           /es/product/_m%C3%B3vil-xiaomi-mi-9-azul-128-gb-6-gb-ram-6-4-full-hd-snapdragon-855-3300-mah-android-1447026.html  \n",
       "4   /es/product/_m%C3%B3vil-xiaomi-redmi-note-8t-gris-64-gb-4-gb-ram-6-3-full-hd-snapdragon-665-4000-mah-android-1468591.html  "
      ]
     },
     "execution_count": 39,
     "metadata": {},
     "output_type": "execute_result"
    }
   ],
   "source": [
    "data.head()"
   ]
  },
  {
   "cell_type": "code",
   "execution_count": 41,
   "metadata": {},
   "outputs": [
    {
     "data": {
      "text/plain": [
       "dtype('int64')"
      ]
     },
     "execution_count": 41,
     "metadata": {},
     "output_type": "execute_result"
    }
   ],
   "source": [
    "data.price[0].dtype"
   ]
  },
  {
   "cell_type": "code",
   "execution_count": 42,
   "metadata": {
    "scrolled": false
   },
   "outputs": [],
   "source": [
    "with open('data_clean.pickle', 'wb') as handle:\n",
    "    pickle.dump(data, handle, protocol=pickle.DEFAULT_PROTOCOL)"
   ]
  },
  {
   "cell_type": "markdown",
   "metadata": {},
   "source": [
    "Save values to use in the interface (border values for ranges and selectable values (sperating systems, brands)"
   ]
  },
  {
   "cell_type": "code",
   "execution_count": 55,
   "metadata": {},
   "outputs": [],
   "source": [
    "ranges = {}\n",
    "ranges[\"min\"] = {}\n",
    "ranges[\"max\"] = {}\n",
    "\n",
    "from math import ceil\n",
    "\n",
    "ranges[\"min\"][\"cpu\"] = float(data.cpu[data.cpu > 0].min())\n",
    "ranges[\"max\"][\"cpu\"] = float(data.cpu[data.cpu > 0].max())\n",
    "\n",
    "ranges[\"min\"][\"memory\"] = int(data.memory.min())\n",
    "ranges[\"max\"][\"memory\"] = int(data.memory.max())\n",
    "\n",
    "ranges[\"min\"][\"ram\"] = int(data.ram.min())\n",
    "ranges[\"max\"][\"ram\"] = int(data.ram.max())\n",
    "\n",
    "ranges[\"min\"][\"camera\"] = float(data.camera.min())\n",
    "ranges[\"max\"][\"camera\"] = float(data.camera.max())\n",
    "\n",
    "ranges[\"min\"][\"weight\"] = int(data.weight.min())\n",
    "ranges[\"max\"][\"weight\"] = int(data.weight.max())\n",
    "\n",
    "ranges[\"min\"][\"diagonal\"] = float(data.screen_diagonal.min())\n",
    "ranges[\"max\"][\"diagonal\"] = float(data.screen_diagonal.max())\n",
    "\n",
    "ranges[\"min\"][\"battery\"] = int(data.battery.min())\n",
    "ranges[\"max\"][\"battery\"] = int(data.battery.max())\n",
    "\n",
    "ranges[\"min\"][\"price\"] = int(data.price.min())\n",
    "ranges[\"max\"][\"price\"] = int(data.price.max())"
   ]
  },
  {
   "cell_type": "code",
   "execution_count": 56,
   "metadata": {},
   "outputs": [],
   "source": [
    "ranges[\"brands\"] = data.brand.unique()\n",
    "ranges[\"os\"] = data.operating_system.unique()"
   ]
  },
  {
   "cell_type": "code",
   "execution_count": 57,
   "metadata": {
    "scrolled": true
   },
   "outputs": [
    {
     "data": {
      "text/plain": [
       "{'min': {'cpu': 0.416,\n",
       "  'memory': 0,\n",
       "  'ram': 0,\n",
       "  'camera': 2.0,\n",
       "  'weight': 113,\n",
       "  'diagonal': 6.09,\n",
       "  'battery': 0,\n",
       "  'price': 49},\n",
       " 'max': {'cpu': 3.0,\n",
       "  'memory': 512,\n",
       "  'ram': 16,\n",
       "  'camera': 108.0,\n",
       "  'weight': 300,\n",
       "  'diagonal': 18.51,\n",
       "  'battery': 5260,\n",
       "  'price': 2599},\n",
       " 'brands': array(['huawei', 'xiaomi', 'samsung', 'apple', 'realme', 'motorola',\n",
       "        'honor', 'lg', 'alcatel', 'oneplus', 'oppo', 'gigaset', 'sony',\n",
       "        'crosscall', 'hammer', 'nokia', 'palm', 'asus', 'meizu', 'tcl',\n",
       "        'weimei', 'moto', 'vsmart', 'lenovo'], dtype=object),\n",
       " 'os': array(['Android', 'iOS', 'other', nan], dtype=object)}"
      ]
     },
     "execution_count": 57,
     "metadata": {},
     "output_type": "execute_result"
    }
   ],
   "source": [
    "ranges"
   ]
  },
  {
   "cell_type": "code",
   "execution_count": 58,
   "metadata": {},
   "outputs": [],
   "source": [
    "with open('border_values.pickle', 'wb') as handle:\n",
    "    pickle.dump(ranges, handle, protocol=pickle.DEFAULT_PROTOCOL)"
   ]
  },
  {
   "cell_type": "code",
   "execution_count": 22,
   "metadata": {},
   "outputs": [
    {
     "data": {
      "text/plain": [
       "3.0"
      ]
     },
     "execution_count": 22,
     "metadata": {},
     "output_type": "execute_result"
    }
   ],
   "source": [
    "ranges[\"max\"][\"cpu\"]"
   ]
  },
  {
   "cell_type": "code",
   "execution_count": 23,
   "metadata": {},
   "outputs": [
    {
     "data": {
      "text/plain": [
       "3.0"
      ]
     },
     "execution_count": 23,
     "metadata": {},
     "output_type": "execute_result"
    }
   ],
   "source": [
    "data.cpu.max()"
   ]
  },
  {
   "cell_type": "code",
   "execution_count": null,
   "metadata": {},
   "outputs": [],
   "source": []
  }
 ],
 "metadata": {
  "kernelspec": {
   "display_name": "Python 3",
   "language": "python",
   "name": "python3"
  },
  "language_info": {
   "codemirror_mode": {
    "name": "ipython",
    "version": 3
   },
   "file_extension": ".py",
   "mimetype": "text/x-python",
   "name": "python",
   "nbconvert_exporter": "python",
   "pygments_lexer": "ipython3",
   "version": "3.8.5"
  }
 },
 "nbformat": 4,
 "nbformat_minor": 2
}
